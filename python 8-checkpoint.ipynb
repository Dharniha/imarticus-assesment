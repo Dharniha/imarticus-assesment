{
 "cells": [
  {
   "cell_type": "code",
   "execution_count": 16,
   "metadata": {},
   "outputs": [
    {
     "name": "stdout",
     "output_type": "stream",
     "text": [
      "[9, 8.5, 8.0, 7.5, 7.0]\n"
     ]
    }
   ],
   "source": [
    "\n",
    "a= [9,8,7,6,5]\n",
    "import itertools as it\n",
    "b=[]\n",
    "b=it.accumulate(list(enumerate(a)), lambda x,y: (y[0], (x[1]*(x[0]+1) + y[1])/(y[0]+1)))\n",
    "print(list(map(lambda x: x[1],b)))"
   ]
  },
  {
   "cell_type": "code",
   "execution_count": null,
   "metadata": {},
   "outputs": [],
   "source": []
  }
 ],
 "metadata": {
  "kernelspec": {
   "display_name": "Python 3",
   "language": "python",
   "name": "python3"
  },
  "language_info": {
   "codemirror_mode": {
    "name": "ipython",
    "version": 3
   },
   "file_extension": ".py",
   "mimetype": "text/x-python",
   "name": "python",
   "nbconvert_exporter": "python",
   "pygments_lexer": "ipython3",
   "version": "3.7.6"
  }
 },
 "nbformat": 4,
 "nbformat_minor": 4
}
