{
 "cells": [
  {
   "cell_type": "code",
   "execution_count": 3,
   "metadata": {},
   "outputs": [
    {
     "name": "stdout",
     "output_type": "stream",
     "text": [
      "['He is good boy', 'He is an awesome player', 'She is the best', 'These burgers are really nice']\n",
      "['Food is worst here', 'The pizza tastes awful']\n"
     ]
    }
   ],
   "source": [
    "pos=['good','best','awesome','nice']\n",
    "ne=['worst','awful']\n",
    "posl=[]\n",
    "nel=[]\n",
    "a=['He is good boy','Food is worst here','He is an awesome player','She is the best','The pizza tastes awful','These burgers are really nice']\n",
    "for j in range(0,1):    \n",
    "    for i in range(0,len(a)):\n",
    "        if pos[j] in a[i] or pos[j+1] in a[i] or pos[j+2] in a[i] or pos[j+3] in a[i]:\n",
    "            posl.append(a[i])\n",
    "        elif ne[j] in a[i] or ne[j+1] in a[i]:\n",
    "            nel.append(a[i])\n",
    "print(posl)\n",
    "print(nel)"
   ]
  },
  {
   "cell_type": "code",
   "execution_count": null,
   "metadata": {},
   "outputs": [],
   "source": []
  },
  {
   "cell_type": "code",
   "execution_count": null,
   "metadata": {},
   "outputs": [],
   "source": []
  }
 ],
 "metadata": {
  "kernelspec": {
   "display_name": "Python 3",
   "language": "python",
   "name": "python3"
  },
  "language_info": {
   "codemirror_mode": {
    "name": "ipython",
    "version": 3
   },
   "file_extension": ".py",
   "mimetype": "text/x-python",
   "name": "python",
   "nbconvert_exporter": "python",
   "pygments_lexer": "ipython3",
   "version": "3.7.6"
  }
 },
 "nbformat": 4,
 "nbformat_minor": 4
}
