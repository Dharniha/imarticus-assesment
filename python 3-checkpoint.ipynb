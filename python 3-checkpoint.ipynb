{
 "cells": [
  {
   "cell_type": "code",
   "execution_count": null,
   "metadata": {},
   "outputs": [],
   "source": [
    "fruits = (('Lemon', 'sour'),('DragonFruit', 'Sweet'),('Grapes', 'soUr'),('Kiwi', 'Sour'),('Apples', 'sweet'),\n",
    "('Orange','sour'),\n",
    "('Blueberries','sweet'),\n",
    "('Limes','Sour')\n",
    ")\n",
    "out=[]\n",
    "arr=[]\n",
    "for i in range (len(fruits)):\n",
    "    if 'sour' in fruits[i] or 'Sour' in fruits[i] or 'soUr' in fruits[i] :\n",
    "        out.append(fruits[i])\n",
    "for j in range (len(out)):\n",
    "    arr.append(out[j][0])\n",
    "print(arr)"
   ]
  }
 ],
 "metadata": {
  "kernelspec": {
   "display_name": "Python 3",
   "language": "python",
   "name": "python3"
  },
  "language_info": {
   "codemirror_mode": {
    "name": "ipython",
    "version": 3
   },
   "file_extension": ".py",
   "mimetype": "text/x-python",
   "name": "python",
   "nbconvert_exporter": "python",
   "pygments_lexer": "ipython3",
   "version": "3.7.6"
  }
 },
 "nbformat": 4,
 "nbformat_minor": 4
}
